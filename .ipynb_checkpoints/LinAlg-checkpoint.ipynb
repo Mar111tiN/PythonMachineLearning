{
 "cells": [
  {
   "cell_type": "markdown",
   "id": "75f35010",
   "metadata": {},
   "source": [
    "# Linear Algebra shorty\n",
    "\n",
    "here I will store the basic knowledge of linear algebra required for Machine Learning\n",
    "I will make use of the numpy library"
   ]
  },
  {
   "cell_type": "markdown",
   "id": "e98ec9ff",
   "metadata": {},
   "source": [
    "## Vectors\n",
    "vectors are 1-dimensional and define directions in n-dimensional space\n",
    "in numpy vectors a, b $\\in \\mathbb{R}^{n}$  are defined as `np.array`"
   ]
  },
  {
   "cell_type": "code",
   "execution_count": null,
   "id": "d24c3344",
   "metadata": {},
   "outputs": [],
   "source": [
    "import numpy as np\n",
    "a = np.arange(5)\n",
    "a\n",
    "\n",
    "b = np.arange(5) -2\n",
    "b"
   ]
  },
  {
   "cell_type": "markdown",
   "id": "e32c14bb",
   "metadata": {},
   "source": [
    "### Vector operations\n",
    "+ #### inner product\n",
    "the inner or dot product of two vectors $x,y  \\in  \\mathbb{R}^{n}$ is defined as:\n",
    "$$x^{T}y = \\sum_{i=0}^{n} x_{i}y_{i}$$\n",
    "and returns a scalar\n",
    "in numpy use `np.dot`"
   ]
  },
  {
   "cell_type": "code",
   "execution_count": null,
   "id": "2fb70a95",
   "metadata": {},
   "outputs": [],
   "source": [
    "np.dot(a,b)"
   ]
  },
  {
   "cell_type": "markdown",
   "id": "fb82806e",
   "metadata": {},
   "source": [
    "+ #### outer product\n",
    "the outer product of two vectors $x \\in \\mathbb{R}^{n}$ and $y \\in \\mathbb{R}^{m}$ returns a matrix $xy^{T} = A \\in \\mathbb{R}^{n \\times m}$ with\n",
    "$xy^{T}_{ij} = x_{i}y_{j}$\n",
    "in numpy, use `np.outer`"
   ]
  },
  {
   "cell_type": "code",
   "execution_count": null,
   "id": "ac86f369",
   "metadata": {},
   "outputs": [],
   "source": [
    "np.outer(a,b)"
   ]
  },
  {
   "cell_type": "markdown",
   "id": "34dd03f2",
   "metadata": {},
   "source": [
    "## Matrix\n",
    "matrices are the `numpy`representation of data lists where one axis is dedicated to the point cloud and the other axis dimensions define the dimensions of the discribed space\n",
    "a matrix A $\\in \\mathbb{R}^{n \\times m}$ is defined in `numpy`as an array of shape `(n,m)`"
   ]
  },
  {
   "cell_type": "code",
   "execution_count": null,
   "id": "85ed0630",
   "metadata": {},
   "outputs": [],
   "source": [
    "import numpy.random as rnd\n",
    "A = np.array(rnd.randint(1,10,(3,4)))\n",
    "A\n",
    "A.shape"
   ]
  },
  {
   "cell_type": "markdown",
   "id": "1ff2c439",
   "metadata": {},
   "source": [
    "a vector a $\\in \\mathbb{R}^{n}$ can be converted for matrix computations into an array A $\\in \\mathbb{R}^{n \\times 1}$ with the `a[:, np.newaxis]`syntax (can be shortened to `a[:,None]`):"
   ]
  },
  {
   "cell_type": "code",
   "execution_count": null,
   "id": "8523d534",
   "metadata": {},
   "outputs": [],
   "source": [
    "a[:,np.newaxis]"
   ]
  },
  {
   "cell_type": "markdown",
   "id": "d149cc68",
   "metadata": {},
   "source": [
    "## Matrix operations\n",
    "\n",
    "all matrix operations are implemented in `numpy` and its subpackages (especially in `numpy.linalg`)\n",
    "### Matrix Product\n",
    "the product of two matrices $A \\in  \\mathbb{R}^{m \\times n}$ and $B \\in \\mathbb{R}^{n \\times p}$ is the matrix $C \\in \\mathbb{R}^{m \\times p}$ with \n",
    "$$C_{ij} = \\sum_{k=0}^{n} A_{ik}B_{kj}$$\n",
    "and returns a scalar"
   ]
  },
  {
   "cell_type": "code",
   "execution_count": null,
   "id": "cb2972ed",
   "metadata": {},
   "outputs": [],
   "source": [
    "B = np.arange(12).reshape(4,3) + 2\n",
    "B"
   ]
  },
  {
   "cell_type": "code",
   "execution_count": null,
   "id": "62f2832d",
   "metadata": {},
   "outputs": [],
   "source": [
    "A.shape\n",
    "B.shape"
   ]
  },
  {
   "cell_type": "code",
   "execution_count": null,
   "id": "0f310ede",
   "metadata": {},
   "outputs": [],
   "source": [
    "np.dot(A,B)"
   ]
  },
  {
   "cell_type": "code",
   "execution_count": null,
   "id": "c0431f08",
   "metadata": {},
   "outputs": [],
   "source": [
    "np.dot(B,A)"
   ]
  },
  {
   "cell_type": "code",
   "execution_count": null,
   "id": "af2fc592",
   "metadata": {},
   "outputs": [],
   "source": []
  }
 ],
 "metadata": {
  "kernelspec": {
   "display_name": "Python 3 (ipykernel)",
   "language": "python",
   "name": "python3"
  },
  "language_info": {
   "codemirror_mode": {
    "name": "ipython",
    "version": 3
   },
   "file_extension": ".py",
   "mimetype": "text/x-python",
   "name": "python",
   "nbconvert_exporter": "python",
   "pygments_lexer": "ipython3",
   "version": "3.10.1"
  }
 },
 "nbformat": 4,
 "nbformat_minor": 5
}
